{
 "cells": [
  {
   "cell_type": "markdown",
   "id": "823335f1-998d-4076-afc7-31ba2dbc04a7",
   "metadata": {},
   "source": [
    "## No 1"
   ]
  },
  {
   "cell_type": "code",
   "execution_count": null,
   "id": "0b47e6c0-9b64-49e2-9031-d79f5b4c586f",
   "metadata": {},
   "outputs": [],
   "source": []
  },
  {
   "cell_type": "code",
   "execution_count": 2,
   "id": "2020dd28-4801-4f37-aba5-ce58f30adcc5",
   "metadata": {},
   "outputs": [],
   "source": [
    "import numpy as np"
   ]
  },
  {
   "cell_type": "code",
   "execution_count": 3,
   "id": "a815ab40-234a-473e-bd94-ca5327072c9e",
   "metadata": {},
   "outputs": [],
   "source": [
    "import pandas as dp"
   ]
  },
  {
   "cell_type": "code",
   "execution_count": 4,
   "id": "c5bbe362-d82a-4b40-963e-3bb75b797e82",
   "metadata": {},
   "outputs": [
    {
     "name": "stdout",
     "output_type": "stream",
     "text": [
      "[[ 2  2  3]\n",
      " [-2  7  4]\n",
      " [-3 -3 -4]\n",
      " [-8  2  3]]\n"
     ]
    }
   ],
   "source": [
    "A = np.array ([[2,2,3],[-2,7,4],[-3,-3,-4],[-8,2,3]])\n",
    "print(A)"
   ]
  },
  {
   "cell_type": "markdown",
   "id": "e6f0e669-e516-4197-b15d-44dc71f39208",
   "metadata": {},
   "source": [
    "# 1. 1"
   ]
  },
  {
   "cell_type": "markdown",
   "id": "d4932052-cd2a-4335-8bae-2c3b60f910cd",
   "metadata": {},
   "source": [
    "## adding another column to the matrix"
   ]
  },
  {
   "cell_type": "code",
   "execution_count": 5,
   "id": "dfdc067f-83e1-4e78-8622-6c4af08fb51b",
   "metadata": {},
   "outputs": [],
   "source": [
    "# vstack adds a new row\n",
    "# hstack adds a new column"
   ]
  },
  {
   "cell_type": "code",
   "execution_count": 10,
   "id": "be3cf67d-abc7-456c-981c-af64b32aaa07",
   "metadata": {},
   "outputs": [
    {
     "data": {
      "text/plain": [
       "array([[1],\n",
       "       [0],\n",
       "       [1],\n",
       "       [0]])"
      ]
     },
     "execution_count": 10,
     "metadata": {},
     "output_type": "execute_result"
    }
   ],
   "source": [
    "new_column=np.array([[1],[0],[1],[0]])\n",
    "new_column"
   ]
  },
  {
   "cell_type": "code",
   "execution_count": 9,
   "id": "f08de7b5-6f4f-4ae4-b665-fb3d32cbae50",
   "metadata": {},
   "outputs": [
    {
     "name": "stdout",
     "output_type": "stream",
     "text": [
      "[[ 2  2  3  1]\n",
      " [-2  7  4  0]\n",
      " [-3 -3 -4  1]\n",
      " [-8  2  3  0]]\n"
     ]
    }
   ],
   "source": [
    "B=np.hstack((A,new_column))\n",
    "print(B)"
   ]
  },
  {
   "cell_type": "raw",
   "id": "dfa27770-0818-4896-95c7-520f732ef791",
   "metadata": {},
   "source": []
  },
  {
   "cell_type": "code",
   "execution_count": null,
   "id": "e9791bb4-f0ca-4a70-80ee-4dd1a73d97aa",
   "metadata": {},
   "outputs": [],
   "source": [
    "## checking if the matrix is invertable we look out for its determinant which is[ np.linalg.det(B)]\n",
    "#linalg which is \"linear aligebra\"\n",
    "determinant= np.linalg.det(B)"
   ]
  },
  {
   "cell_type": "code",
   "execution_count": 39,
   "id": "0337967b-f1b9-4bee-be38-59c16ad44c60",
   "metadata": {},
   "outputs": [
    {
     "name": "stdout",
     "output_type": "stream",
     "text": [
      "matrix B is invertable\n",
      "[[ 2  2  3  1]\n",
      " [-2  7  4  0]\n",
      " [-3 -3 -4  1]\n",
      " [-8  2  3  0]]\n",
      "daterminant of B -298.9999999999999\n"
     ]
    }
   ],
   "source": [
    "if determinant !=0:\n",
    "           print(\"matrix B is invertable\")\n",
    "else:\n",
    "           print (\"matrix is not invertable\")\n",
    "#out of matrix\n",
    "print(B)\n",
    "print (\"daterminant of B\",determinant)"
   ]
  },
  {
   "cell_type": "markdown",
   "id": "9a0d4b2a-8f76-491e-9154-5e7c80e4530c",
   "metadata": {},
   "source": [
    "## 1.2"
   ]
  },
  {
   "cell_type": "code",
   "execution_count": 40,
   "id": "416cdc4d-e167-4d8d-a571-8d1708cd9b91",
   "metadata": {},
   "outputs": [
    {
     "name": "stdout",
     "output_type": "stream",
     "text": [
      "[[ 2  2  3]\n",
      " [-2  7  4]\n",
      " [-3 -3 -4]\n",
      " [-8  2  3]]\n"
     ]
    }
   ],
   "source": [
    "# removing a column from A to make it invertable\n",
    "A = np.array ([[2,2,3],[-2,7,4],[-3,-3,-4],[-8,2,3]])\n",
    "print(A)\n"
   ]
  },
  {
   "cell_type": "code",
   "execution_count": 41,
   "id": "9ff5ca95-7ee8-49da-b727-d5386690461b",
   "metadata": {},
   "outputs": [
    {
     "name": "stdout",
     "output_type": "stream",
     "text": [
      "[[ 2  2  3]\n",
      " [-2  7  4]\n",
      " [-8  2  3]]\n"
     ]
    }
   ],
   "source": [
    "reduced_matrix=np.delete(A,2, axis=0)\n",
    "print(reduced_matrix)"
   ]
  },
  {
   "cell_type": "code",
   "execution_count": 42,
   "id": "853b08ce-2fa0-498f-b0ba-51ae3a93f7c6",
   "metadata": {},
   "outputs": [
    {
     "name": "stdout",
     "output_type": "stream",
     "text": [
      "129.99999999999997\n"
     ]
    }
   ],
   "source": [
    "determinant=np.linalg.det(reduced_matrix)\n",
    "print (determinant)"
   ]
  },
  {
   "cell_type": "markdown",
   "id": "9cbd33a3-cac8-483d-b2c8-19f5a55e385e",
   "metadata": {},
   "source": [
    "## 1.3"
   ]
  },
  {
   "cell_type": "code",
   "execution_count": null,
   "id": "1df861dd-0b2b-4d0a-bf71-b541cef4dbf1",
   "metadata": {},
   "outputs": [],
   "source": []
  },
  {
   "cell_type": "markdown",
   "id": "869d4a0c-4da6-40a6-8388-d7d3038e0369",
   "metadata": {},
   "source": [
    "## AA^T (getting the transpos of A)"
   ]
  },
  {
   "cell_type": "code",
   "execution_count": 44,
   "id": "32925f4d-9442-4754-97fa-5adabdf7b5d3",
   "metadata": {},
   "outputs": [
    {
     "name": "stdout",
     "output_type": "stream",
     "text": [
      "[[ 2  2  3]\n",
      " [-2  7  4]\n",
      " [-3 -3 -4]\n",
      " [-8  2  3]]\n"
     ]
    }
   ],
   "source": [
    "A = np.array ([[2,2,3],[-2,7,4],[-3,-3,-4],[-8,2,3]])\n",
    "print(A)"
   ]
  },
  {
   "cell_type": "markdown",
   "id": "af963ee2-ff68-40b1-b515-1f0ae1b99e6f",
   "metadata": {},
   "source": [
    "# 1.4"
   ]
  },
  {
   "cell_type": "markdown",
   "id": "5c0ca5f7-2d42-4475-a902-1b5f16383062",
   "metadata": {},
   "source": [
    "## transpose matrix( what is a row becomes a column)\n"
   ]
  },
  {
   "cell_type": "code",
   "execution_count": 51,
   "id": "09df4a08-f71a-4b84-a1c4-6c7cceba9708",
   "metadata": {},
   "outputs": [
    {
     "name": "stdout",
     "output_type": "stream",
     "text": [
      "[[ 2 -2 -3  8]\n",
      " [ 2  7 -3  2]\n",
      " [ 3  4 -4  3]]\n"
     ]
    }
   ],
   "source": [
    "AT=np.array([[2,-2,-3,8],[2,7,-3,2],[3,4,-4,3]])\n",
    "print(AT)"
   ]
  },
  {
   "cell_type": "code",
   "execution_count": 52,
   "id": "1e5cd9b0-39a6-4d17-b110-6c2d5056cfd8",
   "metadata": {},
   "outputs": [
    {
     "name": "stdout",
     "output_type": "stream",
     "text": [
      "[[ 17  22 -24  -3]\n",
      " [ 22  69 -31  42]\n",
      " [-24 -31  34   6]\n",
      " [ -3  42   6  77]]\n"
     ]
    }
   ],
   "source": [
    "A_AT=np.dot(A,A.T)\n",
    "print(A_AT)"
   ]
  },
  {
   "cell_type": "code",
   "execution_count": 50,
   "id": "4eb0c0ca-2a22-41e1-86a0-a869dcf0f355",
   "metadata": {},
   "outputs": [
    {
     "name": "stdout",
     "output_type": "stream",
     "text": [
      "129.99999999999997\n"
     ]
    }
   ],
   "source": [
    "dterminant=np.linalg.det(A_AT)\n",
    "print(determinant)"
   ]
  },
  {
   "cell_type": "code",
   "execution_count": 53,
   "id": "ea5d63e9-9a2d-4f83-ae80-14d209c25af7",
   "metadata": {},
   "outputs": [],
   "source": [
    "## ATA invertable"
   ]
  },
  {
   "cell_type": "code",
   "execution_count": 55,
   "id": "b0df3d95-a593-42ba-8958-16e45aecdac4",
   "metadata": {},
   "outputs": [
    {
     "name": "stdout",
     "output_type": "stream",
     "text": [
      "[[ 81 -17 -14]\n",
      " [-17  66  52]\n",
      " [-14  52  50]]\n"
     ]
    }
   ],
   "source": [
    "AT_A=np.dot(A.T,A)\n",
    "print(AT_A)"
   ]
  },
  {
   "cell_type": "code",
   "execution_count": 56,
   "id": "ee85c0d7-91ac-46ce-9063-faafdba7a9d7",
   "metadata": {},
   "outputs": [
    {
     "name": "stdout",
     "output_type": "stream",
     "text": [
      "129.99999999999997\n"
     ]
    }
   ],
   "source": [
    "determinant-np.linalg.det(AT_A)\n",
    "print(determinant)"
   ]
  },
  {
   "cell_type": "code",
   "execution_count": 59,
   "id": "b627e213-3d95-476b-82e7-f4323844dc0d",
   "metadata": {},
   "outputs": [
    {
     "name": "stdout",
     "output_type": "stream",
     "text": [
      "invertable\n"
     ]
    }
   ],
   "source": [
    "if determinant !=0:\n",
    "    print('invertable')\n",
    "else:\n",
    "    print('not invertable')"
   ]
  },
  {
   "cell_type": "markdown",
   "id": "23a611d5-e1a2-4003-ac41-e5f8028de756",
   "metadata": {},
   "source": [
    "## NO 2"
   ]
  },
  {
   "cell_type": "markdown",
   "id": "2102c7f6-2c9b-477f-a503-ed4dab7473cb",
   "metadata": {},
   "source": [
    "## Given an n-darray X = np.array([[25, 2], [5, 26], [3, 7]])"
   ]
  },
  {
   "cell_type": "code",
   "execution_count": 60,
   "id": "f832309b-06d3-4f53-89a1-72e65b8fce4c",
   "metadata": {},
   "outputs": [
    {
     "name": "stdout",
     "output_type": "stream",
     "text": [
      "[[25  2]\n",
      " [ 5 26]\n",
      " [ 3  7]]\n"
     ]
    }
   ],
   "source": [
    "X = np.array ([[25, 2], [5, 26], [3, 7]])\n",
    "print(X)"
   ]
  },
  {
   "cell_type": "markdown",
   "id": "d22c7e42-9871-4de2-8295-bb9b3101391f",
   "metadata": {},
   "source": [
    "## 2.1"
   ]
  },
  {
   "cell_type": "code",
   "execution_count": 62,
   "id": "d7d7d2fd-3727-4789-a32f-e0564a820e13",
   "metadata": {},
   "outputs": [
    {
     "data": {
      "text/plain": [
       "(3, 2)"
      ]
     },
     "execution_count": 62,
     "metadata": {},
     "output_type": "execute_result"
    }
   ],
   "source": [
    "X.shape"
   ]
  },
  {
   "cell_type": "markdown",
   "id": "d6a4726f-bacf-484c-bfe3-491b12d67794",
   "metadata": {},
   "source": [
    "## 2.2"
   ]
  },
  {
   "cell_type": "code",
   "execution_count": 114,
   "id": "20ef6ddf-7603-42a9-bc01-135511285a36",
   "metadata": {},
   "outputs": [
    {
     "name": "stdout",
     "output_type": "stream",
     "text": [
      "[25  2  5]\n"
     ]
    }
   ],
   "source": [
    "transpose_X=X.T\n",
    "print(transpose_X)"
   ]
  },
  {
   "cell_type": "markdown",
   "id": "d1e6daad-9db2-4d4a-b63c-88524df2b1e0",
   "metadata": {},
   "source": [
    "## Generate a new n-darray of X scaled up by integer 3 (Hint: note that scalars are applied on each element of a matrix)\n"
   ]
  },
  {
   "cell_type": "markdown",
   "id": "ee7c593f-6ee4-417f-8539-426c285a95b4",
   "metadata": {},
   "source": [
    "## 2.3"
   ]
  },
  {
   "cell_type": "code",
   "execution_count": 115,
   "id": "51af513c-ad3a-473d-8bf3-3142235775d5",
   "metadata": {},
   "outputs": [
    {
     "name": "stdout",
     "output_type": "stream",
     "text": [
      "[[25  2]\n",
      " [ 5 26]\n",
      " [ 3  7]]\n"
     ]
    }
   ],
   "source": [
    "X = np.array ([[25, 2], [5, 26], [3, 7]])\n",
    "print(X)"
   ]
  },
  {
   "cell_type": "code",
   "execution_count": 75,
   "id": "a2c138bb-2fa8-421f-aac4-11e58d63e5e1",
   "metadata": {},
   "outputs": [
    {
     "name": "stdout",
     "output_type": "stream",
     "text": [
      "[[75  6]\n",
      " [15 78]\n",
      " [ 9 21]]\n"
     ]
    }
   ],
   "source": [
    "scale_X = X*3\n",
    "print(scale_X)"
   ]
  },
  {
   "cell_type": "markdown",
   "id": "6965490a-4656-4631-b956-7f2b96be14fb",
   "metadata": {},
   "source": [
    "## Generate a new matrix A = ([[3, 4], [5, 6], [7, 8]]). Compute the matrix multiplication of matrices X and A (note the condition for matrix multiplication must satisfy a certain rule)\n"
   ]
  },
  {
   "cell_type": "markdown",
   "id": "def2928b-d8fb-447f-b474-5976778653ed",
   "metadata": {},
   "source": [
    "## 2.4"
   ]
  },
  {
   "cell_type": "code",
   "execution_count": 116,
   "id": "3cdf75c5-08a3-44bd-9a74-5eb33f4f1129",
   "metadata": {},
   "outputs": [
    {
     "name": "stdout",
     "output_type": "stream",
     "text": [
      "[[3 4]\n",
      " [5 6]\n",
      " [7 8]]\n"
     ]
    }
   ],
   "source": [
    "A =np.array ([[3, 4], [5, 6], [7, 8]])\n",
    "print(A)"
   ]
  },
  {
   "cell_type": "code",
   "execution_count": 78,
   "id": "e1ddc7d7-e041-4a98-9edb-aa24add9e0d4",
   "metadata": {},
   "outputs": [
    {
     "name": "stdout",
     "output_type": "stream",
     "text": [
      "[[25  2]\n",
      " [ 5 26]\n",
      " [ 3  7]]\n"
     ]
    }
   ],
   "source": [
    "X = np.array ([[25, 2], [5, 26], [3, 7]])\n",
    "print(X)"
   ]
  },
  {
   "cell_type": "code",
   "execution_count": 80,
   "id": "69b815dd-e3fa-4c3f-ad50-2a2abd650066",
   "metadata": {},
   "outputs": [
    {
     "name": "stdout",
     "output_type": "stream",
     "text": [
      "[[ 75   8]\n",
      " [ 25 156]\n",
      " [ 21  56]]\n"
     ]
    }
   ],
   "source": [
    "X_and_A=(A*X)\n",
    "print(X_and_A)"
   ]
  },
  {
   "cell_type": "markdown",
   "id": "c6b1ddb8-7254-4d7a-a129-e1c2d2f118ca",
   "metadata": {},
   "source": [
    "## Compute the inverse of the result of multiplication of matrices (A and X)"
   ]
  },
  {
   "cell_type": "markdown",
   "id": "b6604ac6-ae8e-421c-b8b3-f698e98a6a30",
   "metadata": {},
   "source": [
    "## 2.5"
   ]
  },
  {
   "cell_type": "code",
   "execution_count": 117,
   "id": "375b0873-4c3b-49cf-b7c9-dd038c25986c",
   "metadata": {},
   "outputs": [
    {
     "name": "stdout",
     "output_type": "stream",
     "text": [
      "[[3 4]\n",
      " [5 6]\n",
      " [7 8]]\n"
     ]
    }
   ],
   "source": [
    "A = np.array([[3,4],[5,6],[7,8]])\n",
    "print(A)"
   ]
  },
  {
   "cell_type": "code",
   "execution_count": 89,
   "id": "b78773f2-cfba-45a9-a427-aa4e3c0e7f58",
   "metadata": {},
   "outputs": [
    {
     "name": "stdout",
     "output_type": "stream",
     "text": [
      "[[3 5 7]\n",
      " [4 6 8]]\n"
     ]
    }
   ],
   "source": [
    "transpose = A.T\n",
    "print(transpose)"
   ]
  },
  {
   "cell_type": "code",
   "execution_count": 92,
   "id": "585d49e0-ad4b-4f48-8812-632f78a12477",
   "metadata": {},
   "outputs": [
    {
     "name": "stdout",
     "output_type": "stream",
     "text": [
      "[[121 185]\n",
      " [154 220]]\n"
     ]
    }
   ],
   "source": [
    "product=np.dot(A.T,X)\n",
    "print(product)"
   ]
  },
  {
   "cell_type": "code",
   "execution_count": 93,
   "id": "22329bf2-6bee-4450-b433-b07268f67007",
   "metadata": {},
   "outputs": [
    {
     "name": "stdout",
     "output_type": "stream",
     "text": [
      "-1869.999999999996\n"
     ]
    }
   ],
   "source": [
    "## inverse of the product is computed as (1/determinant)\n",
    "determinant=np.linalg.det(product)\n",
    "print(determinant)"
   ]
  },
  {
   "cell_type": "code",
   "execution_count": 95,
   "id": "5488b36c-cd3e-417a-90b5-3701c345a0b2",
   "metadata": {},
   "outputs": [
    {
     "name": "stdout",
     "output_type": "stream",
     "text": [
      "-0.0005347593582887713\n"
     ]
    }
   ],
   "source": [
    "the_inverse=(1/determinant)\n",
    "print(the_inverse)"
   ]
  },
  {
   "cell_type": "markdown",
   "id": "7424ef87-53d9-44d4-95d7-050a303cf15e",
   "metadata": {},
   "source": [
    "## No3"
   ]
  },
  {
   "cell_type": "markdown",
   "id": "eda72392-b267-40cb-8af5-21dd9d78c2da",
   "metadata": {},
   "source": [
    "# 3.1"
   ]
  },
  {
   "cell_type": "code",
   "execution_count": 98,
   "id": "74b99bba-b874-4453-a5be-cd76784f7c85",
   "metadata": {},
   "outputs": [
    {
     "name": "stdout",
     "output_type": "stream",
     "text": [
      "[25  2  5]\n"
     ]
    }
   ],
   "source": [
    "X = np.array([25, 2, 5])\n",
    "print (X)\n"
   ]
  },
  {
   "cell_type": "markdown",
   "id": "5e047cae-4a0f-4907-99ab-86e4600bdbfc",
   "metadata": {},
   "source": [
    "# 3.2"
   ]
  },
  {
   "cell_type": "code",
   "execution_count": 101,
   "id": "f993cf95-3e90-408f-8a95-be710b9a66e5",
   "metadata": {},
   "outputs": [
    {
     "data": {
      "text/plain": [
       "(3,)"
      ]
     },
     "execution_count": 101,
     "metadata": {},
     "output_type": "execute_result"
    }
   ],
   "source": [
    "X.shape"
   ]
  },
  {
   "cell_type": "markdown",
   "id": "2a9ed111-ead4-4132-b110-41de9070451d",
   "metadata": {},
   "source": [
    "# 3.3"
   ]
  },
  {
   "cell_type": "code",
   "execution_count": 102,
   "id": "a35589ad-dc97-4eac-94c8-ed399cf91bff",
   "metadata": {},
   "outputs": [
    {
     "name": "stdout",
     "output_type": "stream",
     "text": [
      "[25  2  5]\n"
     ]
    }
   ],
   "source": [
    "XT = (X.T)\n",
    "print(XT)"
   ]
  },
  {
   "cell_type": "markdown",
   "id": "3eab3047-80f5-4c0d-ad5e-c1addf584b8c",
   "metadata": {},
   "source": [
    "# 3.4"
   ]
  },
  {
   "cell_type": "code",
   "execution_count": 112,
   "id": "54c3c0e9-489e-42ef-aee3-a268185a5553",
   "metadata": {},
   "outputs": [
    {
     "name": "stdout",
     "output_type": "stream",
     "text": [
      "L² (Frobenius) norm of x: 25.573423705088842\n"
     ]
    }
   ],
   "source": [
    "norm_of_x = np.linalg.norm([25, 2, 5])\n",
    "\n",
    "print(\"L² (Frobenius) norm of x:\", norm_of_x)\n"
   ]
  },
  {
   "cell_type": "code",
   "execution_count": null,
   "id": "35ae8327-35bf-4960-8f7a-9c5c8b9f0d5a",
   "metadata": {},
   "outputs": [],
   "source": []
  }
 ],
 "metadata": {
  "kernelspec": {
   "display_name": "Python 3 (ipykernel)",
   "language": "python",
   "name": "python3"
  },
  "language_info": {
   "codemirror_mode": {
    "name": "ipython",
    "version": 3
   },
   "file_extension": ".py",
   "mimetype": "text/x-python",
   "name": "python",
   "nbconvert_exporter": "python",
   "pygments_lexer": "ipython3",
   "version": "3.12.6"
  }
 },
 "nbformat": 4,
 "nbformat_minor": 5
}
